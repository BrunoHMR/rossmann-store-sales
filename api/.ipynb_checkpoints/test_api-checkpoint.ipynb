{
 "cells": [
  {
   "cell_type": "code",
   "execution_count": 5,
   "id": "99773172",
   "metadata": {
    "ExecuteTime": {
     "end_time": "2023-04-27T03:03:57.337105Z",
     "start_time": "2023-04-27T03:03:56.749441Z"
    }
   },
   "outputs": [],
   "source": [
    "import pickle\n",
    "import os\n",
    "import inflection\n",
    "import math\n",
    "import datetime\n",
    "import pandas as pd\n",
    "import numpy  as np\n",
    "from flask import Flask, request, Response\n",
    "import requests\n",
    "\n",
    "df_store = pd.read_csv('\\\\Users\\\\micro\\\\Desktop\\\\repos\\\\3_ciclo_intermediario\\\\1_ds_em_producao\\\\data\\\\store.csv', low_memory = False)\n",
    "df = pd.read_csv('\\\\Users\\\\micro\\\\Desktop\\\\repos\\\\3_ciclo_intermediario\\\\1_ds_em_producao\\\\data\\\\test.csv')"
   ]
  },
  {
   "cell_type": "code",
   "execution_count": 6,
   "id": "84838918",
   "metadata": {
    "ExecuteTime": {
     "end_time": "2023-04-27T03:03:58.972310Z",
     "start_time": "2023-04-27T03:03:58.935333Z"
    }
   },
   "outputs": [],
   "source": [
    "# merge test dataset + store (perfomance das lojas + características das lojas)\n",
    "df_test = pd.merge(df, df_store, how = 'left', on = 'Store')\n",
    "\n",
    "# lojas escolhidas para testar as predições\n",
    "df_test = df_test[df_test['Store'].isin([20, 23, 22])]\n",
    "\n",
    "# removendo do teste os dias fechados\n",
    "df_test = df_test[df_test['Open'] != 0]\n",
    "df_test = df_test[~df_test['Open'].isnull()] # ~: diferente\n",
    "df_test = df_test.drop('Id', axis = 1)"
   ]
  },
  {
   "cell_type": "code",
   "execution_count": 7,
   "id": "eba6415f",
   "metadata": {
    "ExecuteTime": {
     "end_time": "2023-04-27T03:04:00.463064Z",
     "start_time": "2023-04-27T03:04:00.440904Z"
    }
   },
   "outputs": [],
   "source": [
    "# converte o dataframe em json para fazer a comunicação entre os sistemas\n",
    "data = json.dumps(df_test.to_dict(orient = 'records'))"
   ]
  },
  {
   "cell_type": "code",
   "execution_count": 8,
   "id": "7907dbb4",
   "metadata": {
    "ExecuteTime": {
     "end_time": "2023-04-27T03:04:48.487731Z",
     "start_time": "2023-04-27T03:04:02.355632Z"
    }
   },
   "outputs": [
    {
     "name": "stdout",
     "output_type": "stream",
     "text": [
      "Status Code 500\n"
     ]
    }
   ],
   "source": [
    "# chamada em API\n",
    "url = 'https://rossmann-api-5z78.onrender.com/rossmann/predict'\n",
    "header = {'Content-type': 'application/json'} \n",
    "data = data\n",
    "\n",
    "r = requests.post(url, data = data, headers = header) # post: precisa enviar algum dado para requerir\n",
    "print('Status Code {}'.format(r.status_code)) # para ver se a requisição é válida ou não "
   ]
  },
  {
   "cell_type": "code",
   "execution_count": null,
   "id": "934b5076",
   "metadata": {},
   "outputs": [],
   "source": [
    "# pega o json da requisição e converte em dataframe\n",
    "d1 = pd.DataFrame(r.json(), columns = r.json()[0].keys())\n",
    "d1.head()"
   ]
  },
  {
   "cell_type": "code",
   "execution_count": null,
   "id": "04c7bb4c",
   "metadata": {},
   "outputs": [],
   "source": [
    "# mensagem mostrada ao usuário\n",
    "d2 = d1[['store', 'prediction']].groupby('store').sum().reset_index()\n",
    "\n",
    "for i in range(len(d2)):\n",
    "    print('A loja {} irá vender R${:,.2f} nas próximas 6 semanas'.format(d2.loc[i, 'store'], d2.loc[i, 'prediction']))"
   ]
  }
 ],
 "metadata": {
  "hide_input": false,
  "kernelspec": {
   "display_name": "Python 3 (ipykernel)",
   "language": "python",
   "name": "python3"
  },
  "language_info": {
   "codemirror_mode": {
    "name": "ipython",
    "version": 3
   },
   "file_extension": ".py",
   "mimetype": "text/x-python",
   "name": "python",
   "nbconvert_exporter": "python",
   "pygments_lexer": "ipython3",
   "version": "3.9.16"
  }
 },
 "nbformat": 4,
 "nbformat_minor": 5
}
