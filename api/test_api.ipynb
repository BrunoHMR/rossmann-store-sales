{
 "cells": [
  {
   "cell_type": "code",
   "execution_count": 1,
   "id": "99773172",
   "metadata": {
    "ExecuteTime": {
     "end_time": "2023-05-14T04:04:13.697780Z",
     "start_time": "2023-05-14T04:04:12.774364Z"
    }
   },
   "outputs": [],
   "source": [
    "import pickle\n",
    "import os\n",
    "import inflection\n",
    "import math\n",
    "import datetime\n",
    "import pandas as pd\n",
    "import numpy  as np\n",
    "from flask import Flask, request, Response\n",
    "import requests\n",
    "\n",
    "df_store = pd.read_csv('\\\\Users\\\\micro\\\\Desktop\\\\repos\\\\3_ciclo_intermediario\\\\1_ds_em_producao\\\\data\\\\store.csv', low_memory = False)\n",
    "df = pd.read_csv('\\\\Users\\\\micro\\\\Desktop\\\\repos\\\\3_ciclo_intermediario\\\\1_ds_em_producao\\\\data\\\\test.csv')"
   ]
  },
  {
   "cell_type": "code",
   "execution_count": 2,
   "id": "84838918",
   "metadata": {
    "ExecuteTime": {
     "end_time": "2023-05-14T04:04:13.761782Z",
     "start_time": "2023-05-14T04:04:13.699783Z"
    }
   },
   "outputs": [],
   "source": [
    "# merge test dataset + store (perfomance das lojas + características das lojas)\n",
    "df_test = pd.merge(df, df_store, how = 'left', on = 'Store')\n",
    "\n",
    "# lojas escolhidas para testar as predições\n",
    "# df_test = df_test[df_test['Store'].isin([20, 23, 22])]\n",
    "\n",
    "# removendo do teste os dias fechados\n",
    "df_test = df_test[df_test['Open'] != 0]\n",
    "df_test = df_test[~df_test['Open'].isnull()] # ~: diferente\n",
    "df_test = df_test.drop('Id', axis = 1)"
   ]
  },
  {
   "cell_type": "code",
   "execution_count": 3,
   "id": "eba6415f",
   "metadata": {
    "ExecuteTime": {
     "end_time": "2023-05-14T04:04:14.512679Z",
     "start_time": "2023-05-14T04:04:13.765782Z"
    }
   },
   "outputs": [],
   "source": [
    "# converte o dataframe em json para fazer a comunicação entre os sistemas\n",
    "data = json.dumps(df_test.to_dict(orient = 'records'))"
   ]
  },
  {
   "cell_type": "code",
   "execution_count": 4,
   "id": "7907dbb4",
   "metadata": {
    "ExecuteTime": {
     "end_time": "2023-05-14T04:06:02.959102Z",
     "start_time": "2023-05-14T04:04:14.514682Z"
    }
   },
   "outputs": [
    {
     "name": "stdout",
     "output_type": "stream",
     "text": [
      "Status Code 200\n"
     ]
    }
   ],
   "source": [
    "# chamada em API\n",
    "url = 'https://rossmann-api-5z78.onrender.com/rossmann/predict'\n",
    "header = {'Content-type': 'application/json'} \n",
    "data = data\n",
    "\n",
    "r = requests.post(url, data = data, headers = header) # post: precisa enviar algum dado para requerir\n",
    "print('Status Code {}'.format(r.status_code)) # para ver se a requisição é válida ou não "
   ]
  },
  {
   "cell_type": "code",
   "execution_count": 5,
   "id": "934b5076",
   "metadata": {
    "ExecuteTime": {
     "end_time": "2023-05-14T04:06:03.898778Z",
     "start_time": "2023-05-14T04:06:02.962103Z"
    }
   },
   "outputs": [
    {
     "data": {
      "text/html": [
       "<div>\n",
       "<style scoped>\n",
       "    .dataframe tbody tr th:only-of-type {\n",
       "        vertical-align: middle;\n",
       "    }\n",
       "\n",
       "    .dataframe tbody tr th {\n",
       "        vertical-align: top;\n",
       "    }\n",
       "\n",
       "    .dataframe thead th {\n",
       "        text-align: right;\n",
       "    }\n",
       "</style>\n",
       "<table border=\"1\" class=\"dataframe\">\n",
       "  <thead>\n",
       "    <tr style=\"text-align: right;\">\n",
       "      <th></th>\n",
       "      <th>store</th>\n",
       "      <th>day_of_week</th>\n",
       "      <th>date</th>\n",
       "      <th>open</th>\n",
       "      <th>promo</th>\n",
       "      <th>state_holiday</th>\n",
       "      <th>school_holiday</th>\n",
       "      <th>store_type</th>\n",
       "      <th>assortment</th>\n",
       "      <th>competition_distance</th>\n",
       "      <th>...</th>\n",
       "      <th>year</th>\n",
       "      <th>month</th>\n",
       "      <th>day</th>\n",
       "      <th>week_of_year</th>\n",
       "      <th>year_week</th>\n",
       "      <th>competition_since</th>\n",
       "      <th>competition_time_month</th>\n",
       "      <th>promo_since</th>\n",
       "      <th>promo_time_week</th>\n",
       "      <th>prediction</th>\n",
       "    </tr>\n",
       "  </thead>\n",
       "  <tbody>\n",
       "    <tr>\n",
       "      <th>0</th>\n",
       "      <td>1</td>\n",
       "      <td>4</td>\n",
       "      <td>2015-09-17T00:00:00.000</td>\n",
       "      <td>1.0</td>\n",
       "      <td>1</td>\n",
       "      <td>regular_day</td>\n",
       "      <td>0</td>\n",
       "      <td>c</td>\n",
       "      <td>basic</td>\n",
       "      <td>1270.0</td>\n",
       "      <td>...</td>\n",
       "      <td>2015</td>\n",
       "      <td>9</td>\n",
       "      <td>17</td>\n",
       "      <td>38</td>\n",
       "      <td>2015-37</td>\n",
       "      <td>2008-09-01T00:00:00.000</td>\n",
       "      <td>85</td>\n",
       "      <td>2015-09-14T00:00:00.000</td>\n",
       "      <td>0</td>\n",
       "      <td>3556.217773</td>\n",
       "    </tr>\n",
       "    <tr>\n",
       "      <th>1</th>\n",
       "      <td>3</td>\n",
       "      <td>4</td>\n",
       "      <td>2015-09-17T00:00:00.000</td>\n",
       "      <td>1.0</td>\n",
       "      <td>1</td>\n",
       "      <td>regular_day</td>\n",
       "      <td>0</td>\n",
       "      <td>a</td>\n",
       "      <td>basic</td>\n",
       "      <td>14130.0</td>\n",
       "      <td>...</td>\n",
       "      <td>2015</td>\n",
       "      <td>9</td>\n",
       "      <td>17</td>\n",
       "      <td>38</td>\n",
       "      <td>2015-37</td>\n",
       "      <td>2006-12-01T00:00:00.000</td>\n",
       "      <td>107</td>\n",
       "      <td>2011-03-28T00:00:00.000</td>\n",
       "      <td>233</td>\n",
       "      <td>7151.637695</td>\n",
       "    </tr>\n",
       "    <tr>\n",
       "      <th>2</th>\n",
       "      <td>7</td>\n",
       "      <td>4</td>\n",
       "      <td>2015-09-17T00:00:00.000</td>\n",
       "      <td>1.0</td>\n",
       "      <td>1</td>\n",
       "      <td>regular_day</td>\n",
       "      <td>0</td>\n",
       "      <td>a</td>\n",
       "      <td>extended</td>\n",
       "      <td>24000.0</td>\n",
       "      <td>...</td>\n",
       "      <td>2015</td>\n",
       "      <td>9</td>\n",
       "      <td>17</td>\n",
       "      <td>38</td>\n",
       "      <td>2015-37</td>\n",
       "      <td>2013-04-01T00:00:00.000</td>\n",
       "      <td>29</td>\n",
       "      <td>2015-09-14T00:00:00.000</td>\n",
       "      <td>0</td>\n",
       "      <td>6503.599609</td>\n",
       "    </tr>\n",
       "    <tr>\n",
       "      <th>3</th>\n",
       "      <td>8</td>\n",
       "      <td>4</td>\n",
       "      <td>2015-09-17T00:00:00.000</td>\n",
       "      <td>1.0</td>\n",
       "      <td>1</td>\n",
       "      <td>regular_day</td>\n",
       "      <td>0</td>\n",
       "      <td>a</td>\n",
       "      <td>basic</td>\n",
       "      <td>7520.0</td>\n",
       "      <td>...</td>\n",
       "      <td>2015</td>\n",
       "      <td>9</td>\n",
       "      <td>17</td>\n",
       "      <td>38</td>\n",
       "      <td>2015-37</td>\n",
       "      <td>2014-10-01T00:00:00.000</td>\n",
       "      <td>11</td>\n",
       "      <td>2015-09-14T00:00:00.000</td>\n",
       "      <td>0</td>\n",
       "      <td>5600.644531</td>\n",
       "    </tr>\n",
       "    <tr>\n",
       "      <th>4</th>\n",
       "      <td>9</td>\n",
       "      <td>4</td>\n",
       "      <td>2015-09-17T00:00:00.000</td>\n",
       "      <td>1.0</td>\n",
       "      <td>1</td>\n",
       "      <td>regular_day</td>\n",
       "      <td>0</td>\n",
       "      <td>a</td>\n",
       "      <td>extended</td>\n",
       "      <td>2030.0</td>\n",
       "      <td>...</td>\n",
       "      <td>2015</td>\n",
       "      <td>9</td>\n",
       "      <td>17</td>\n",
       "      <td>38</td>\n",
       "      <td>2015-37</td>\n",
       "      <td>2000-08-01T00:00:00.000</td>\n",
       "      <td>184</td>\n",
       "      <td>2015-09-14T00:00:00.000</td>\n",
       "      <td>0</td>\n",
       "      <td>5676.948730</td>\n",
       "    </tr>\n",
       "  </tbody>\n",
       "</table>\n",
       "<p>5 rows × 28 columns</p>\n",
       "</div>"
      ],
      "text/plain": [
       "   store  day_of_week                     date  open  promo state_holiday  \\\n",
       "0      1            4  2015-09-17T00:00:00.000   1.0      1   regular_day   \n",
       "1      3            4  2015-09-17T00:00:00.000   1.0      1   regular_day   \n",
       "2      7            4  2015-09-17T00:00:00.000   1.0      1   regular_day   \n",
       "3      8            4  2015-09-17T00:00:00.000   1.0      1   regular_day   \n",
       "4      9            4  2015-09-17T00:00:00.000   1.0      1   regular_day   \n",
       "\n",
       "   school_holiday store_type assortment  competition_distance  ...  year  \\\n",
       "0               0          c      basic                1270.0  ...  2015   \n",
       "1               0          a      basic               14130.0  ...  2015   \n",
       "2               0          a   extended               24000.0  ...  2015   \n",
       "3               0          a      basic                7520.0  ...  2015   \n",
       "4               0          a   extended                2030.0  ...  2015   \n",
       "\n",
       "   month  day  week_of_year  year_week        competition_since  \\\n",
       "0      9   17            38    2015-37  2008-09-01T00:00:00.000   \n",
       "1      9   17            38    2015-37  2006-12-01T00:00:00.000   \n",
       "2      9   17            38    2015-37  2013-04-01T00:00:00.000   \n",
       "3      9   17            38    2015-37  2014-10-01T00:00:00.000   \n",
       "4      9   17            38    2015-37  2000-08-01T00:00:00.000   \n",
       "\n",
       "  competition_time_month              promo_since  promo_time_week  \\\n",
       "0                     85  2015-09-14T00:00:00.000                0   \n",
       "1                    107  2011-03-28T00:00:00.000              233   \n",
       "2                     29  2015-09-14T00:00:00.000                0   \n",
       "3                     11  2015-09-14T00:00:00.000                0   \n",
       "4                    184  2015-09-14T00:00:00.000                0   \n",
       "\n",
       "    prediction  \n",
       "0  3556.217773  \n",
       "1  7151.637695  \n",
       "2  6503.599609  \n",
       "3  5600.644531  \n",
       "4  5676.948730  \n",
       "\n",
       "[5 rows x 28 columns]"
      ]
     },
     "execution_count": 5,
     "metadata": {},
     "output_type": "execute_result"
    }
   ],
   "source": [
    "# pega o json da requisição e converte em dataframe\n",
    "d1 = pd.DataFrame(r.json(), columns = r.json()[0].keys())\n",
    "d1.head()"
   ]
  },
  {
   "cell_type": "code",
   "execution_count": 6,
   "id": "04c7bb4c",
   "metadata": {
    "ExecuteTime": {
     "end_time": "2023-05-14T04:06:03.929798Z",
     "start_time": "2023-05-14T04:06:03.908779Z"
    }
   },
   "outputs": [],
   "source": [
    "# agrupa as lojas e as predições\n",
    "d2 = d1[['store', 'prediction']].groupby('store').sum().reset_index()\n",
    "\n",
    "# mensagem mostrada ao usuário\n",
    "# for i in range(len(d2)):\n",
    "#     print('A loja {} irá vender R${:,.2f} nas próximas 6 semanas.'.format(d2.loc[i, 'store'], d2.loc[i, 'prediction']))"
   ]
  },
  {
   "cell_type": "code",
   "execution_count": 7,
   "id": "d8c65ffc",
   "metadata": {
    "ExecuteTime": {
     "end_time": "2023-05-14T04:06:04.040670Z",
     "start_time": "2023-05-14T04:06:03.932780Z"
    }
   },
   "outputs": [
    {
     "data": {
      "text/html": [
       "<div>\n",
       "<style scoped>\n",
       "    .dataframe tbody tr th:only-of-type {\n",
       "        vertical-align: middle;\n",
       "    }\n",
       "\n",
       "    .dataframe tbody tr th {\n",
       "        vertical-align: top;\n",
       "    }\n",
       "\n",
       "    .dataframe thead th {\n",
       "        text-align: right;\n",
       "    }\n",
       "</style>\n",
       "<table border=\"1\" class=\"dataframe\">\n",
       "  <thead>\n",
       "    <tr style=\"text-align: right;\">\n",
       "      <th></th>\n",
       "      <th>store</th>\n",
       "      <th>prediction</th>\n",
       "    </tr>\n",
       "  </thead>\n",
       "  <tbody>\n",
       "    <tr>\n",
       "      <th>0</th>\n",
       "      <td>1</td>\n",
       "      <td>149104.97</td>\n",
       "    </tr>\n",
       "    <tr>\n",
       "      <th>1</th>\n",
       "      <td>3</td>\n",
       "      <td>263219.79</td>\n",
       "    </tr>\n",
       "    <tr>\n",
       "      <th>2</th>\n",
       "      <td>7</td>\n",
       "      <td>281318.34</td>\n",
       "    </tr>\n",
       "    <tr>\n",
       "      <th>3</th>\n",
       "      <td>8</td>\n",
       "      <td>215527.73</td>\n",
       "    </tr>\n",
       "    <tr>\n",
       "      <th>4</th>\n",
       "      <td>9</td>\n",
       "      <td>247061.79</td>\n",
       "    </tr>\n",
       "    <tr>\n",
       "      <th>...</th>\n",
       "      <td>...</td>\n",
       "      <td>...</td>\n",
       "    </tr>\n",
       "    <tr>\n",
       "      <th>851</th>\n",
       "      <td>1111</td>\n",
       "      <td>205324.21</td>\n",
       "    </tr>\n",
       "    <tr>\n",
       "      <th>852</th>\n",
       "      <td>1112</td>\n",
       "      <td>338938.30</td>\n",
       "    </tr>\n",
       "    <tr>\n",
       "      <th>853</th>\n",
       "      <td>1113</td>\n",
       "      <td>240114.02</td>\n",
       "    </tr>\n",
       "    <tr>\n",
       "      <th>854</th>\n",
       "      <td>1114</td>\n",
       "      <td>707037.86</td>\n",
       "    </tr>\n",
       "    <tr>\n",
       "      <th>855</th>\n",
       "      <td>1115</td>\n",
       "      <td>256154.70</td>\n",
       "    </tr>\n",
       "  </tbody>\n",
       "</table>\n",
       "<p>856 rows × 2 columns</p>\n",
       "</div>"
      ],
      "text/plain": [
       "     store  prediction\n",
       "0        1   149104.97\n",
       "1        3   263219.79\n",
       "2        7   281318.34\n",
       "3        8   215527.73\n",
       "4        9   247061.79\n",
       "..     ...         ...\n",
       "851   1111   205324.21\n",
       "852   1112   338938.30\n",
       "853   1113   240114.02\n",
       "854   1114   707037.86\n",
       "855   1115   256154.70\n",
       "\n",
       "[856 rows x 2 columns]"
      ]
     },
     "execution_count": 7,
     "metadata": {},
     "output_type": "execute_result"
    }
   ],
   "source": [
    "d2['prediction'] = np.round(d2['prediction'], 2)\n",
    "d2"
   ]
  },
  {
   "cell_type": "code",
   "execution_count": 8,
   "id": "56bb3c46",
   "metadata": {
    "ExecuteTime": {
     "end_time": "2023-05-14T04:06:04.148477Z",
     "start_time": "2023-05-14T04:06:04.043656Z"
    }
   },
   "outputs": [],
   "source": [
    "d2.to_csv('predictions.csv', index = False) "
   ]
  },
  {
   "cell_type": "code",
   "execution_count": null,
   "id": "10b10023",
   "metadata": {},
   "outputs": [],
   "source": []
  }
 ],
 "metadata": {
  "hide_input": false,
  "kernelspec": {
   "display_name": "Python 3 (ipykernel)",
   "language": "python",
   "name": "python3"
  },
  "language_info": {
   "codemirror_mode": {
    "name": "ipython",
    "version": 3
   },
   "file_extension": ".py",
   "mimetype": "text/x-python",
   "name": "python",
   "nbconvert_exporter": "python",
   "pygments_lexer": "ipython3",
   "version": "3.9.16"
  }
 },
 "nbformat": 4,
 "nbformat_minor": 5
}
