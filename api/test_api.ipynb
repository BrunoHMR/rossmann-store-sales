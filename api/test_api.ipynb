{
 "cells": [
  {
   "cell_type": "code",
   "execution_count": 9,
   "id": "99773172",
   "metadata": {
    "ExecuteTime": {
     "end_time": "2023-04-27T03:24:49.953553Z",
     "start_time": "2023-04-27T03:24:49.892622Z"
    }
   },
   "outputs": [],
   "source": [
    "import pickle\n",
    "import os\n",
    "import inflection\n",
    "import math\n",
    "import datetime\n",
    "import pandas as pd\n",
    "import numpy  as np\n",
    "from flask import Flask, request, Response\n",
    "import requests\n",
    "\n",
    "df_store = pd.read_csv('\\\\Users\\\\micro\\\\Desktop\\\\repos\\\\3_ciclo_intermediario\\\\1_ds_em_producao\\\\data\\\\store.csv', low_memory = False)\n",
    "df = pd.read_csv('\\\\Users\\\\micro\\\\Desktop\\\\repos\\\\3_ciclo_intermediario\\\\1_ds_em_producao\\\\data\\\\test.csv')"
   ]
  },
  {
   "cell_type": "code",
   "execution_count": 10,
   "id": "84838918",
   "metadata": {
    "ExecuteTime": {
     "end_time": "2023-04-27T03:24:51.546819Z",
     "start_time": "2023-04-27T03:24:51.500627Z"
    }
   },
   "outputs": [],
   "source": [
    "# merge test dataset + store (perfomance das lojas + características das lojas)\n",
    "df_test = pd.merge(df, df_store, how = 'left', on = 'Store')\n",
    "\n",
    "# lojas escolhidas para testar as predições\n",
    "df_test = df_test[df_test['Store'].isin([20, 23, 22])]\n",
    "\n",
    "# removendo do teste os dias fechados\n",
    "df_test = df_test[df_test['Open'] != 0]\n",
    "df_test = df_test[~df_test['Open'].isnull()] # ~: diferente\n",
    "df_test = df_test.drop('Id', axis = 1)"
   ]
  },
  {
   "cell_type": "code",
   "execution_count": 11,
   "id": "eba6415f",
   "metadata": {
    "ExecuteTime": {
     "end_time": "2023-04-27T03:24:53.228565Z",
     "start_time": "2023-04-27T03:24:53.218559Z"
    }
   },
   "outputs": [],
   "source": [
    "# converte o dataframe em json para fazer a comunicação entre os sistemas\n",
    "data = json.dumps(df_test.to_dict(orient = 'records'))"
   ]
  },
  {
   "cell_type": "code",
   "execution_count": 12,
   "id": "7907dbb4",
   "metadata": {
    "ExecuteTime": {
     "end_time": "2023-04-27T03:24:57.273533Z",
     "start_time": "2023-04-27T03:24:55.157605Z"
    }
   },
   "outputs": [
    {
     "name": "stdout",
     "output_type": "stream",
     "text": [
      "Status Code 200\n"
     ]
    }
   ],
   "source": [
    "# chamada em API\n",
    "url = 'https://rossmann-api-5z78.onrender.com/rossmann/predict'\n",
    "header = {'Content-type': 'application/json'} \n",
    "data = data\n",
    "\n",
    "r = requests.post(url, data = data, headers = header) # post: precisa enviar algum dado para requerir\n",
    "print('Status Code {}'.format(r.status_code)) # para ver se a requisição é válida ou não "
   ]
  },
  {
   "cell_type": "code",
   "execution_count": 13,
   "id": "934b5076",
   "metadata": {
    "ExecuteTime": {
     "end_time": "2023-04-27T03:25:06.681581Z",
     "start_time": "2023-04-27T03:25:06.290636Z"
    }
   },
   "outputs": [
    {
     "data": {
      "text/html": [
       "<div>\n",
       "<style scoped>\n",
       "    .dataframe tbody tr th:only-of-type {\n",
       "        vertical-align: middle;\n",
       "    }\n",
       "\n",
       "    .dataframe tbody tr th {\n",
       "        vertical-align: top;\n",
       "    }\n",
       "\n",
       "    .dataframe thead th {\n",
       "        text-align: right;\n",
       "    }\n",
       "</style>\n",
       "<table border=\"1\" class=\"dataframe\">\n",
       "  <thead>\n",
       "    <tr style=\"text-align: right;\">\n",
       "      <th></th>\n",
       "      <th>store</th>\n",
       "      <th>day_of_week</th>\n",
       "      <th>date</th>\n",
       "      <th>open</th>\n",
       "      <th>promo</th>\n",
       "      <th>state_holiday</th>\n",
       "      <th>school_holiday</th>\n",
       "      <th>store_type</th>\n",
       "      <th>assortment</th>\n",
       "      <th>competition_distance</th>\n",
       "      <th>...</th>\n",
       "      <th>year</th>\n",
       "      <th>month</th>\n",
       "      <th>day</th>\n",
       "      <th>week_of_year</th>\n",
       "      <th>year_week</th>\n",
       "      <th>competition_since</th>\n",
       "      <th>competition_time_month</th>\n",
       "      <th>promo_since</th>\n",
       "      <th>promo_time_week</th>\n",
       "      <th>prediction</th>\n",
       "    </tr>\n",
       "  </thead>\n",
       "  <tbody>\n",
       "    <tr>\n",
       "      <th>0</th>\n",
       "      <td>20</td>\n",
       "      <td>4</td>\n",
       "      <td>2015-09-17T00:00:00.000</td>\n",
       "      <td>1.0</td>\n",
       "      <td>1</td>\n",
       "      <td>regular_day</td>\n",
       "      <td>0</td>\n",
       "      <td>d</td>\n",
       "      <td>basic</td>\n",
       "      <td>2340.0</td>\n",
       "      <td>...</td>\n",
       "      <td>2015</td>\n",
       "      <td>9</td>\n",
       "      <td>17</td>\n",
       "      <td>38</td>\n",
       "      <td>2015-37</td>\n",
       "      <td>2009-05-01T00:00:00.000</td>\n",
       "      <td>77</td>\n",
       "      <td>2014-09-29T00:00:00.000</td>\n",
       "      <td>50</td>\n",
       "      <td>5638.562500</td>\n",
       "    </tr>\n",
       "    <tr>\n",
       "      <th>1</th>\n",
       "      <td>22</td>\n",
       "      <td>4</td>\n",
       "      <td>2015-09-17T00:00:00.000</td>\n",
       "      <td>1.0</td>\n",
       "      <td>1</td>\n",
       "      <td>regular_day</td>\n",
       "      <td>0</td>\n",
       "      <td>a</td>\n",
       "      <td>basic</td>\n",
       "      <td>1040.0</td>\n",
       "      <td>...</td>\n",
       "      <td>2015</td>\n",
       "      <td>9</td>\n",
       "      <td>17</td>\n",
       "      <td>38</td>\n",
       "      <td>2015-37</td>\n",
       "      <td>2015-09-01T00:00:00.000</td>\n",
       "      <td>0</td>\n",
       "      <td>2012-05-21T00:00:00.000</td>\n",
       "      <td>173</td>\n",
       "      <td>4062.384521</td>\n",
       "    </tr>\n",
       "    <tr>\n",
       "      <th>2</th>\n",
       "      <td>23</td>\n",
       "      <td>4</td>\n",
       "      <td>2015-09-17T00:00:00.000</td>\n",
       "      <td>1.0</td>\n",
       "      <td>1</td>\n",
       "      <td>regular_day</td>\n",
       "      <td>0</td>\n",
       "      <td>d</td>\n",
       "      <td>basic</td>\n",
       "      <td>4060.0</td>\n",
       "      <td>...</td>\n",
       "      <td>2015</td>\n",
       "      <td>9</td>\n",
       "      <td>17</td>\n",
       "      <td>38</td>\n",
       "      <td>2015-37</td>\n",
       "      <td>2005-08-01T00:00:00.000</td>\n",
       "      <td>123</td>\n",
       "      <td>2015-09-14T00:00:00.000</td>\n",
       "      <td>0</td>\n",
       "      <td>5101.500977</td>\n",
       "    </tr>\n",
       "    <tr>\n",
       "      <th>3</th>\n",
       "      <td>20</td>\n",
       "      <td>3</td>\n",
       "      <td>2015-09-16T00:00:00.000</td>\n",
       "      <td>1.0</td>\n",
       "      <td>1</td>\n",
       "      <td>regular_day</td>\n",
       "      <td>0</td>\n",
       "      <td>d</td>\n",
       "      <td>basic</td>\n",
       "      <td>2340.0</td>\n",
       "      <td>...</td>\n",
       "      <td>2015</td>\n",
       "      <td>9</td>\n",
       "      <td>16</td>\n",
       "      <td>38</td>\n",
       "      <td>2015-37</td>\n",
       "      <td>2009-05-01T00:00:00.000</td>\n",
       "      <td>77</td>\n",
       "      <td>2014-09-29T00:00:00.000</td>\n",
       "      <td>50</td>\n",
       "      <td>6049.292480</td>\n",
       "    </tr>\n",
       "    <tr>\n",
       "      <th>4</th>\n",
       "      <td>22</td>\n",
       "      <td>3</td>\n",
       "      <td>2015-09-16T00:00:00.000</td>\n",
       "      <td>1.0</td>\n",
       "      <td>1</td>\n",
       "      <td>regular_day</td>\n",
       "      <td>0</td>\n",
       "      <td>a</td>\n",
       "      <td>basic</td>\n",
       "      <td>1040.0</td>\n",
       "      <td>...</td>\n",
       "      <td>2015</td>\n",
       "      <td>9</td>\n",
       "      <td>16</td>\n",
       "      <td>38</td>\n",
       "      <td>2015-37</td>\n",
       "      <td>2015-09-01T00:00:00.000</td>\n",
       "      <td>0</td>\n",
       "      <td>2012-05-21T00:00:00.000</td>\n",
       "      <td>173</td>\n",
       "      <td>4076.813965</td>\n",
       "    </tr>\n",
       "  </tbody>\n",
       "</table>\n",
       "<p>5 rows × 28 columns</p>\n",
       "</div>"
      ],
      "text/plain": [
       "   store  day_of_week                     date  open  promo state_holiday  \\\n",
       "0     20            4  2015-09-17T00:00:00.000   1.0      1   regular_day   \n",
       "1     22            4  2015-09-17T00:00:00.000   1.0      1   regular_day   \n",
       "2     23            4  2015-09-17T00:00:00.000   1.0      1   regular_day   \n",
       "3     20            3  2015-09-16T00:00:00.000   1.0      1   regular_day   \n",
       "4     22            3  2015-09-16T00:00:00.000   1.0      1   regular_day   \n",
       "\n",
       "   school_holiday store_type assortment  competition_distance  ...  year  \\\n",
       "0               0          d      basic                2340.0  ...  2015   \n",
       "1               0          a      basic                1040.0  ...  2015   \n",
       "2               0          d      basic                4060.0  ...  2015   \n",
       "3               0          d      basic                2340.0  ...  2015   \n",
       "4               0          a      basic                1040.0  ...  2015   \n",
       "\n",
       "   month  day  week_of_year  year_week        competition_since  \\\n",
       "0      9   17            38    2015-37  2009-05-01T00:00:00.000   \n",
       "1      9   17            38    2015-37  2015-09-01T00:00:00.000   \n",
       "2      9   17            38    2015-37  2005-08-01T00:00:00.000   \n",
       "3      9   16            38    2015-37  2009-05-01T00:00:00.000   \n",
       "4      9   16            38    2015-37  2015-09-01T00:00:00.000   \n",
       "\n",
       "  competition_time_month              promo_since  promo_time_week  \\\n",
       "0                     77  2014-09-29T00:00:00.000               50   \n",
       "1                      0  2012-05-21T00:00:00.000              173   \n",
       "2                    123  2015-09-14T00:00:00.000                0   \n",
       "3                     77  2014-09-29T00:00:00.000               50   \n",
       "4                      0  2012-05-21T00:00:00.000              173   \n",
       "\n",
       "    prediction  \n",
       "0  5638.562500  \n",
       "1  4062.384521  \n",
       "2  5101.500977  \n",
       "3  6049.292480  \n",
       "4  4076.813965  \n",
       "\n",
       "[5 rows x 28 columns]"
      ]
     },
     "execution_count": 13,
     "metadata": {},
     "output_type": "execute_result"
    }
   ],
   "source": [
    "# pega o json da requisição e converte em dataframe\n",
    "d1 = pd.DataFrame(r.json(), columns = r.json()[0].keys())\n",
    "d1.head()"
   ]
  },
  {
   "cell_type": "code",
   "execution_count": 14,
   "id": "04c7bb4c",
   "metadata": {
    "ExecuteTime": {
     "end_time": "2023-04-27T03:25:13.153384Z",
     "start_time": "2023-04-27T03:25:13.086922Z"
    }
   },
   "outputs": [
    {
     "name": "stdout",
     "output_type": "stream",
     "text": [
      "A loja 20 irá vender R$239,640.66 nas próximas 6 semanas\n",
      "A loja 22 irá vender R$173,071.70 nas próximas 6 semanas\n",
      "A loja 23 irá vender R$209,149.26 nas próximas 6 semanas\n"
     ]
    }
   ],
   "source": [
    "# mensagem mostrada ao usuário\n",
    "d2 = d1[['store', 'prediction']].groupby('store').sum().reset_index()\n",
    "\n",
    "for i in range(len(d2)):\n",
    "    print('A loja {} irá vender R${:,.2f} nas próximas 6 semanas.'.format(d2.loc[i, 'store'], d2.loc[i, 'prediction']))"
   ]
  }
 ],
 "metadata": {
  "hide_input": false,
  "kernelspec": {
   "display_name": "Python 3 (ipykernel)",
   "language": "python",
   "name": "python3"
  },
  "language_info": {
   "codemirror_mode": {
    "name": "ipython",
    "version": 3
   },
   "file_extension": ".py",
   "mimetype": "text/x-python",
   "name": "python",
   "nbconvert_exporter": "python",
   "pygments_lexer": "ipython3",
   "version": "3.9.16"
  }
 },
 "nbformat": 4,
 "nbformat_minor": 5
}
